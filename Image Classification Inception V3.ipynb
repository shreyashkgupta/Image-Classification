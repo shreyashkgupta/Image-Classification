{
  "nbformat": 4,
  "nbformat_minor": 0,
  "metadata": {
    "colab": {
      "name": "Image Classification Inception V3",
      "version": "0.3.2",
      "provenance": [],
      "collapsed_sections": []
    },
    "kernelspec": {
      "name": "python3",
      "display_name": "Python 3"
    },
    "accelerator": "GPU"
  },
  "cells": [
    {
      "cell_type": "markdown",
      "metadata": {
        "id": "7f4K4dWqRgTa",
        "colab_type": "text"
      },
      "source": [
        "# Image **Classification**"
      ]
    },
    {
      "cell_type": "markdown",
      "metadata": {
        "id": "NdCsxSBWRjiZ",
        "colab_type": "text"
      },
      "source": [
        "Classifying images"
      ]
    },
    {
      "cell_type": "markdown",
      "metadata": {
        "id": "YgEChXY9RltZ",
        "colab_type": "text"
      },
      "source": [
        "Author: Shreyash Gupta"
      ]
    },
    {
      "cell_type": "markdown",
      "metadata": {
        "id": "TcIQSFEXRncZ",
        "colab_type": "text"
      },
      "source": [
        "Organization: IndiaMART InterMESH Pvt. Ltd."
      ]
    },
    {
      "cell_type": "markdown",
      "metadata": {
        "id": "iVZegtPaRsh5",
        "colab_type": "text"
      },
      "source": [
        "# **Referring to data**"
      ]
    },
    {
      "cell_type": "markdown",
      "metadata": {
        "id": "f7Bou9jSt13K",
        "colab_type": "text"
      },
      "source": [
        "Importing necessary modules"
      ]
    },
    {
      "cell_type": "code",
      "metadata": {
        "id": "epjb7IkhsPtE",
        "colab_type": "code",
        "colab": {}
      },
      "source": [
        "import os\n",
        "from google.colab import drive"
      ],
      "execution_count": 0,
      "outputs": []
    },
    {
      "cell_type": "markdown",
      "metadata": {
        "id": "Et9nByIV8L_L",
        "colab_type": "text"
      },
      "source": [
        "Mounting to Google Drive"
      ]
    },
    {
      "cell_type": "code",
      "metadata": {
        "id": "K1uMqWZp4tLF",
        "colab_type": "code",
        "colab": {}
      },
      "source": [
        "drive.mount('/content/drive')"
      ],
      "execution_count": 0,
      "outputs": []
    },
    {
      "cell_type": "markdown",
      "metadata": {
        "id": "SqOHcDmd8SDy",
        "colab_type": "text"
      },
      "source": [
        "Changing working directory"
      ]
    },
    {
      "cell_type": "code",
      "metadata": {
        "id": "DfFeQbDP5ggE",
        "colab_type": "code",
        "colab": {}
      },
      "source": [
        "os.chdir('/content/drive/My Drive/Colab Notebooks')"
      ],
      "execution_count": 0,
      "outputs": []
    },
    {
      "cell_type": "markdown",
      "metadata": {
        "id": "UMOoantmtXSs",
        "colab_type": "text"
      },
      "source": [
        "Defining training and validation directory paths"
      ]
    },
    {
      "cell_type": "code",
      "metadata": {
        "id": "l5jgVrBTsRaD",
        "colab_type": "code",
        "colab": {}
      },
      "source": [
        "train__2419_dir = os.path.join(\"/automobile/train/2419\")\n",
        "train_2579_dir = os.path.join(\"/automobile/train/2579\")\n",
        "train_2956_dir = os.path.join(\"/automobile/train/2956\")\n",
        "train_3029_dir = os.path.join(\"/automobile/train/3029\")\n",
        "val__2419_dir = os.path.join(\"/automobile/val/2419\")\n",
        "val_2579_dir = os.path.join(\"/automobile/val/2579\")\n",
        "val_2956_dir = os.path.join(\"/automobile/val/2956\")\n",
        "val_3029_dir = os.path.join(\"/automobile/val/3029\")"
      ],
      "execution_count": 0,
      "outputs": []
    },
    {
      "cell_type": "markdown",
      "metadata": {
        "id": "pIHFi5YTCe81",
        "colab_type": "text"
      },
      "source": [
        "# **Building the model**"
      ]
    },
    {
      "cell_type": "markdown",
      "metadata": {
        "id": "SzvGY77At5X7",
        "colab_type": "text"
      },
      "source": [
        "Importing necessary modules"
      ]
    },
    {
      "cell_type": "code",
      "metadata": {
        "id": "9ef3n-L5Rf6g",
        "colab_type": "code",
        "colab": {}
      },
      "source": [
        "import tensorflow as tf\n",
        "from tensorflow.keras.optimizers import Adam"
      ],
      "execution_count": 0,
      "outputs": []
    },
    {
      "cell_type": "markdown",
      "metadata": {
        "id": "n0f82eF0ChzO",
        "colab_type": "text"
      },
      "source": [
        "Getting pretrained weights for InceptionV3 model"
      ]
    },
    {
      "cell_type": "code",
      "metadata": {
        "id": "A5ghSXDGAMcT",
        "colab_type": "code",
        "colab": {}
      },
      "source": [
        "!wget --no-check-certificate \\\n",
        "    https://storage.googleapis.com/mledu-datasets/inception_v3_weights_tf_dim_ordering_tf_kernels_notop.h5 \\\n",
        "    -O /tmp/inception_v3_weights_tf_dim_ordering_tf_kernels_notop.h5"
      ],
      "execution_count": 0,
      "outputs": []
    },
    {
      "cell_type": "markdown",
      "metadata": {
        "id": "s78fmSHeCm7E",
        "colab_type": "text"
      },
      "source": [
        "Loading the InceptionV3 model"
      ]
    },
    {
      "cell_type": "code",
      "metadata": {
        "id": "68u3qP1UNiwy",
        "colab_type": "code",
        "colab": {}
      },
      "source": [
        "from tensorflow.keras.applications.inception_v3 import InceptionV3\n",
        "pre_trained_model = InceptionV3(input_shape = (300, 300, 3),\n",
        "                               include_top = False,\n",
        "                               weights = None)\n",
        "\n",
        "local_weights_file = '/tmp/inception_v3_weights_tf_dim_ordering_tf_kernels_notop.h5'\n",
        "\n",
        "pre_trained_model.load_weights(local_weights_file)\n",
        "\n",
        "for layer in pre_trained_model.layers:\n",
        "  layer.trainable = False\n",
        "  \n",
        "pre_trained_model.summary()"
      ],
      "execution_count": 0,
      "outputs": []
    },
    {
      "cell_type": "markdown",
      "metadata": {
        "id": "53kwq46RCrBF",
        "colab_type": "text"
      },
      "source": [
        "Fetching the last layer and output"
      ]
    },
    {
      "cell_type": "code",
      "metadata": {
        "id": "Gh6tr0PCOUGe",
        "colab_type": "code",
        "colab": {}
      },
      "source": [
        "last_layer = pre_trained_model.get_layer(\"mixed7\")\n",
        "last_output = last_layer.output"
      ],
      "execution_count": 0,
      "outputs": []
    },
    {
      "cell_type": "markdown",
      "metadata": {
        "id": "08Gbs853tgNg",
        "colab_type": "text"
      },
      "source": [
        "Building the core model"
      ]
    },
    {
      "cell_type": "code",
      "metadata": {
        "id": "Ksuu3afCVfEL",
        "colab_type": "code",
        "colab": {}
      },
      "source": [
        "x = tf.keras.layers.Flatten()(last_output)\n",
        "x = tf.keras.layers.Dense(1024, activation = \"relu\")(x)\n",
        "x = tf.keras.layers.Dropout(0.2)(x)\n",
        "x = tf.keras.layers.Dense(4, activation = \"softmax\")(x)\n",
        "model = tf.keras.Model(pre_trained_model.input, x)"
      ],
      "execution_count": 0,
      "outputs": []
    },
    {
      "cell_type": "markdown",
      "metadata": {
        "id": "JyXiK-Odt8Eq",
        "colab_type": "text"
      },
      "source": [
        "Compiling the model"
      ]
    },
    {
      "cell_type": "code",
      "metadata": {
        "id": "W8tFNV9LVfKr",
        "colab_type": "code",
        "colab": {}
      },
      "source": [
        "model.compile(loss = \"categorical_crossentropy\",\n",
        "              optimizer = Adam(lr = 1e-4),\n",
        "              metrics = [\"acc\"])"
      ],
      "execution_count": 0,
      "outputs": []
    },
    {
      "cell_type": "markdown",
      "metadata": {
        "id": "CqGHwbRkuEp6",
        "colab_type": "text"
      },
      "source": [
        "# **Generating training and validation data**"
      ]
    },
    {
      "cell_type": "markdown",
      "metadata": {
        "id": "Ev2kb8heuckB",
        "colab_type": "text"
      },
      "source": [
        "Importing necessary modules"
      ]
    },
    {
      "cell_type": "code",
      "metadata": {
        "id": "hmCfCGBPVfOb",
        "colab_type": "code",
        "colab": {}
      },
      "source": [
        "from tensorflow.keras.preprocessing.image import ImageDataGenerator"
      ],
      "execution_count": 0,
      "outputs": []
    },
    {
      "cell_type": "markdown",
      "metadata": {
        "id": "FTM0P9-Due05",
        "colab_type": "text"
      },
      "source": [
        "Defining training data generator"
      ]
    },
    {
      "cell_type": "code",
      "metadata": {
        "id": "_IotontbVfR_",
        "colab_type": "code",
        "colab": {}
      },
      "source": [
        "train_datagen = ImageDataGenerator(\n",
        "    rescale = 1./255,\n",
        "    rotation_range = 90,\n",
        "    width_shift_range = 0.3,\n",
        "    height_shift_range = 0.3,\n",
        "    shear_range = 0.3,\n",
        "    zoom_range = 0.3,\n",
        "    horizontal_flip = True,\n",
        "    fill_mode = \"nearest\")"
      ],
      "execution_count": 0,
      "outputs": []
    },
    {
      "cell_type": "markdown",
      "metadata": {
        "id": "ysNxFWgFuhRJ",
        "colab_type": "text"
      },
      "source": [
        "Defininig validation data generator"
      ]
    },
    {
      "cell_type": "code",
      "metadata": {
        "id": "TIf0igjroIZD",
        "colab_type": "code",
        "colab": {}
      },
      "source": [
        "validation_datagen = ImageDataGenerator(rescale = 1./255)"
      ],
      "execution_count": 0,
      "outputs": []
    },
    {
      "cell_type": "markdown",
      "metadata": {
        "id": "-2m9wA7ku7IH",
        "colab_type": "text"
      },
      "source": [
        "Getting training data"
      ]
    },
    {
      "cell_type": "code",
      "metadata": {
        "id": "B8V1jHFioZYo",
        "colab_type": "code",
        "colab": {}
      },
      "source": [
        "train_generator = train_datagen.flow_from_directory(\n",
        "    \"/content/drive/My Drive/Colab Notebooks/automobile/train/\",\n",
        "    target_size = (300, 300),\n",
        "    batch_size = 128,\n",
        "    class_mode = \"categorical\")"
      ],
      "execution_count": 0,
      "outputs": []
    },
    {
      "cell_type": "markdown",
      "metadata": {
        "id": "ORPSYJ70u9JO",
        "colab_type": "text"
      },
      "source": [
        "Getting validation data"
      ]
    },
    {
      "cell_type": "code",
      "metadata": {
        "id": "lSQo4XJGo1qH",
        "colab_type": "code",
        "colab": {}
      },
      "source": [
        "validation_generator = validation_datagen.flow_from_directory(\n",
        "    \"/content/drive/My Drive/Colab Notebooks/automobile/val/\",\n",
        "    target_size = (300, 300),\n",
        "    batch_size = 32,\n",
        "    class_mode = \"categorical\")"
      ],
      "execution_count": 0,
      "outputs": []
    },
    {
      "cell_type": "markdown",
      "metadata": {
        "id": "-DErvYLdvHI5",
        "colab_type": "text"
      },
      "source": [
        "# **Training and visualizing the model**"
      ]
    },
    {
      "cell_type": "markdown",
      "metadata": {
        "id": "k2-mIOgJvTJ5",
        "colab_type": "text"
      },
      "source": [
        "Importing necessary modules"
      ]
    },
    {
      "cell_type": "code",
      "metadata": {
        "id": "07eQltMcp8IO",
        "colab_type": "code",
        "colab": {}
      },
      "source": [
        "import matplotlib.pyplot as plt"
      ],
      "execution_count": 0,
      "outputs": []
    },
    {
      "cell_type": "markdown",
      "metadata": {
        "id": "W9QPNuYtvBLu",
        "colab_type": "text"
      },
      "source": [
        "Fitting the model"
      ]
    },
    {
      "cell_type": "code",
      "metadata": {
        "id": "0HHrOlEgpMGn",
        "colab_type": "code",
        "colab": {}
      },
      "source": [
        "history = model.fit_generator(\n",
        "    train_generator,\n",
        "    epochs = 100,\n",
        "    verbose = 1,\n",
        "    validation_data = validation_generator)"
      ],
      "execution_count": 0,
      "outputs": []
    },
    {
      "cell_type": "markdown",
      "metadata": {
        "id": "z80wJpGmvo8h",
        "colab_type": "text"
      },
      "source": [
        "Defining variables for plotting"
      ]
    },
    {
      "cell_type": "code",
      "metadata": {
        "id": "rkNkXMwBqHmG",
        "colab_type": "code",
        "colab": {}
      },
      "source": [
        "accuracy = history.history[\"acc\"]\n",
        "validation_accuracy = history.history[\"val_acc\"]\n",
        "loss = history.history[\"loss\"]\n",
        "validation_loss = history.history[\"val_loss\"]\n",
        "epochs = range(len(accuracy))"
      ],
      "execution_count": 0,
      "outputs": []
    },
    {
      "cell_type": "markdown",
      "metadata": {
        "id": "fuMneBqBvsiQ",
        "colab_type": "text"
      },
      "source": [
        "Plotting accuracy"
      ]
    },
    {
      "cell_type": "code",
      "metadata": {
        "id": "DCqekKIAquet",
        "colab_type": "code",
        "colab": {}
      },
      "source": [
        "plt.plot(epochs, accuracy, \"r\", label = \"Training Accuracy\")\n",
        "plt.plot(epochs, validation_accuracy, \"b\", label = \"Validation Accuracy\")\n",
        "plt.title(\"Accuracy\")\n",
        "plt.legend()"
      ],
      "execution_count": 0,
      "outputs": []
    },
    {
      "cell_type": "code",
      "metadata": {
        "id": "lKSCittJr56k",
        "colab_type": "code",
        "colab": {}
      },
      "source": [
        "plt.figure()"
      ],
      "execution_count": 0,
      "outputs": []
    },
    {
      "cell_type": "markdown",
      "metadata": {
        "id": "Nn949K6yvyYw",
        "colab_type": "text"
      },
      "source": [
        "Plotting loss"
      ]
    },
    {
      "cell_type": "code",
      "metadata": {
        "id": "iEUe0oW2roq9",
        "colab_type": "code",
        "colab": {}
      },
      "source": [
        "plt.plot(epochs, loss, \"r\", label = \"Training Loss\")\n",
        "plt.plot(epochs, validation_loss, \"b\", label = \"Validation Loss\")\n",
        "plt.title(\"Loss\")\n",
        "plt.legend()"
      ],
      "execution_count": 0,
      "outputs": []
    },
    {
      "cell_type": "code",
      "metadata": {
        "id": "Dp9RRJqWr0xk",
        "colab_type": "code",
        "colab": {}
      },
      "source": [
        "plt.show()"
      ],
      "execution_count": 0,
      "outputs": []
    },
    {
      "cell_type": "markdown",
      "metadata": {
        "id": "iYZd0jxBuW9z",
        "colab_type": "text"
      },
      "source": [
        "# Prediction"
      ]
    },
    {
      "cell_type": "markdown",
      "metadata": {
        "id": "COPPQxqKub-r",
        "colab_type": "text"
      },
      "source": [
        "Defining a prediction function"
      ]
    },
    {
      "cell_type": "code",
      "metadata": {
        "id": "f2cinmJur_6B",
        "colab_type": "code",
        "colab": {}
      },
      "source": [
        "def predict(model, img):\n",
        "    x = image.img_to_array(img)\n",
        "    x = np.expand_dims(x, axis=0)\n",
        "    x = preprocess_input(x)\n",
        "    preds = model.predict(x)\n",
        "    return preds[0]\n",
        "  \n"
      ],
      "execution_count": 0,
      "outputs": []
    },
    {
      "cell_type": "markdown",
      "metadata": {
        "id": "zHewnft7ud98",
        "colab_type": "text"
      },
      "source": [
        "Predicting on an image"
      ]
    },
    {
      "cell_type": "code",
      "metadata": {
        "id": "AzqTMuq2uf3E",
        "colab_type": "code",
        "colab": {}
      },
      "source": [
        "img = image.load_img('/automobile/train/2419/135398099.jpg', target_size=(300, 300))\n",
        "preds = predict(model, img)\n",
        "preds"
      ],
      "execution_count": 0,
      "outputs": []
    }
  ]
}